{
 "cells": [
  {
   "cell_type": "markdown",
   "metadata": {},
   "source": [
    "# Machine Learning"
   ]
  },
  {
   "cell_type": "code",
   "execution_count": null,
   "metadata": {},
   "outputs": [],
   "source": [
    "# EXAMPLES:- (1.) Product Recomendation (2.) Google Eco (3.) Movie Recommendation by Netflix (4.) Google traffic prediction (Google Map)\n"
   ]
  },
  {
   "cell_type": "code",
   "execution_count": 4,
   "metadata": {},
   "outputs": [],
   "source": [
    "# Machine Learning is a subset of AI which gives a machine the ability to learn without being explicitly programmed.\n",
    "# Data is the key and the learning algorithm."
   ]
  },
  {
   "cell_type": "code",
   "execution_count": 5,
   "metadata": {},
   "outputs": [],
   "source": [
    "# HOW DOES MACHINE LEARN ?\n",
    "# We divide our dataset into 2 parts TRAINED(80% of data) and TEST(20% of data) data parts."
   ]
  },
  {
   "cell_type": "code",
   "execution_count": 6,
   "metadata": {},
   "outputs": [],
   "source": [
    "# Deep learning is subset of ML and ML is subset of AI\n",
    "\n",
    "# AI of computer science that emphasizes the creation of intelligent machines that work and react like human.\n",
    "# ML is subset of AI which gives a machine the ability to learn without being explicitly programmed.\n",
    "# DL is subset (or subfield) of ML concerned with algorithm inspired by the structure and function of the brain called artificial neural network."
   ]
  },
  {
   "cell_type": "markdown",
   "metadata": {},
   "source": [
    "# Types of Machine Learning"
   ]
  },
  {
   "cell_type": "code",
   "execution_count": 1,
   "metadata": {},
   "outputs": [],
   "source": [
    "# (1) Supervised Learning :- In which we have a training dataset or labled training dataset and machine are trained on a particular label.\n",
    "\n",
    "# (2) Unsupervised Learning : - There is no teacher and no label what the does machine. The Machine identify CLUSTERS in it.\n",
    "# It similar images(similar item) and group them into a CLUSTERS. \n",
    "# Use cases of UnSupervised Learning is:- Voice Based Personal Assistant, Netflix Recommendation.\n",
    "\n",
    "# (3) Reinforcement Learning :- Agent select a action using a policy (there is no teacher to training a machine) if machine takes a right decision\n",
    "# the machine gets the positive points if the machines takes a wrong decision the machine gets the negative points. SO repeating a process again and\n",
    "# again the machine learns it. Examples- Self driving car."
   ]
  },
  {
   "cell_type": "markdown",
   "metadata": {},
   "source": [
    "# Regression"
   ]
  },
  {
   "cell_type": "code",
   "execution_count": 3,
   "metadata": {},
   "outputs": [],
   "source": [
    "# REGRESSION is a technique that display the relationship between variable 'y' based on the value of variable 'x'\n",
    "\n",
    "# 1.) 1. Linear Regression :-  A technique of finding the relationship between 2 or more variables is known as Linear Regression (Straight line)\n",
    "# Change in dependent variable is associated with a change in one or more independent varaiable.\n",
    "# y = mx + c (Here y is dependent variable and x is independent variable, m is slope of the line which be '0' also)\n",
    "\n",
    "# There are various types of Regression, 1. Linear Regression 2. Logistic Regression\n",
    "# 2.) Logistic Regression :- Values are in categorical why categorical because 'y' only have 2 values 'y=0, and y=1' (Sigmoid curve)"
   ]
  },
  {
   "cell_type": "markdown",
   "metadata": {},
   "source": [
    "# Types of Regression"
   ]
  },
  {
   "cell_type": "code",
   "execution_count": 5,
   "metadata": {},
   "outputs": [],
   "source": [
    "# 1.) Linear Regression:- Continuous variables (Straight Line), Solves Regression Line, Straight Line.\n",
    "# 2.) Logistic Regression:- Categorical Variables (Sigmoid curve), Solves Classification Issue, S-Curve.\n",
    "\n",
    "# Simple Linear Regression is useful for finding relationship between 2 continuous variables.\n",
    "# One is predictor or independent variable and other is response or dependent variable."
   ]
  },
  {
   "cell_type": "code",
   "execution_count": 7,
   "metadata": {},
   "outputs": [],
   "source": [
    "#LINEAR REGRESSION\n",
    "def estimate_coefficient(x,y):\n",
    "    n=np.size(x)\n",
    "    mean_x, mean_y = np.mean(x), np.mean(y)\n",
    "    SS_xy = np.sum(y*x - n*mean_y*mean_x)\n",
    "    SS_xx = np.sum(x*x - n*mean_x*mean_x)\n",
    "    b1 = SS_xy / SS_xx\n",
    "    return(b0,b1)\n",
    "\n",
    "def plot_regression_line(x,y,b):\n",
    "    plt.scatter(x,y,color = 'm', marker=\"o\")\n",
    "    y_pred = b[0]+b[1]*x\n",
    "    plt.plot(x,y_pred,color = 'g')\n",
    "    plt.xlabel('size')\n",
    "    plt.ylabel('cost')\n",
    "    plt.show()\n",
    "    x = np.array([1,2,3,4,5,6,7,8,9,10])\n",
    "    y = np.array([300,350,500,700,800,850,900,900,1000,1200])\n",
    "                \n",
    "    b = estimate_coefficient(x,y)\n",
    "    print(\"Estimate coefficients: \\nb0 = {} \\nb1 = {}\".format(b[0],b[1]))\n",
    "    plot_regression_line(x,y,b)"
   ]
  },
  {
   "cell_type": "code",
   "execution_count": null,
   "metadata": {},
   "outputs": [],
   "source": []
  }
 ],
 "metadata": {
  "kernelspec": {
   "display_name": "Python 3",
   "language": "python",
   "name": "python3"
  },
  "language_info": {
   "codemirror_mode": {
    "name": "ipython",
    "version": 3
   },
   "file_extension": ".py",
   "mimetype": "text/x-python",
   "name": "python",
   "nbconvert_exporter": "python",
   "pygments_lexer": "ipython3",
   "version": "3.7.3"
  }
 },
 "nbformat": 4,
 "nbformat_minor": 2
}
